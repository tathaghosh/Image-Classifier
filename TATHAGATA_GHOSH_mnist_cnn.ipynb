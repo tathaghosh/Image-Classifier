{
  "nbformat": 4,
  "nbformat_minor": 0,
  "metadata": {
    "colab": {
      "name": "TATHAGATA GHOSH - mnist_cnn.ipynb",
      "provenance": [],
      "collapsed_sections": [],
      "include_colab_link": true
    },
    "language_info": {
      "codemirror_mode": {
        "name": "ipython",
        "version": 3
      },
      "file_extension": ".py",
      "mimetype": "text/x-python",
      "name": "python",
      "nbconvert_exporter": "python",
      "pygments_lexer": "ipython3",
      "version": "3.6.8"
    },
    "kernelspec": {
      "display_name": "Python 3",
      "language": "python",
      "name": "python3"
    },
    "accelerator": "GPU"
  },
  "cells": [
    {
      "cell_type": "markdown",
      "metadata": {
        "id": "view-in-github",
        "colab_type": "text"
      },
      "source": [
        "<a href=\"https://colab.research.google.com/github/tathatj/Image-Classifier/blob/master/TATHAGATA_GHOSH_mnist_cnn.ipynb\" target=\"_parent\"><img src=\"https://colab.research.google.com/assets/colab-badge.svg\" alt=\"Open In Colab\"/></a>"
      ]
    },
    {
      "cell_type": "markdown",
      "metadata": {
        "colab_type": "text",
        "id": "MvErumT0n0_-"
      },
      "source": [
        "# Classification of handwritten digits using MLN"
      ]
    },
    {
      "cell_type": "markdown",
      "metadata": {
        "colab_type": "text",
        "id": "zh0uH8bDn1AE"
      },
      "source": [
        "# MNIST Dataset\n",
        "\n",
        "<img src=\"https://upload.wikimedia.org/wikipedia/commons/2/27/MnistExamples.png\" title=\"MNIST dataset\" align=\"center\"/>\n",
        "\n"
      ]
    },
    {
      "cell_type": "markdown",
      "metadata": {
        "colab_type": "text",
        "id": "1K6Im4RYn1AK"
      },
      "source": [
        "# Problem\n",
        "Classify handwritten digits from 0 - 9. <br>\n",
        "Each image is 28x28 pixels\n",
        "\n",
        "<img src=\"https://corochann.com/wp-content/uploads/2017/02/mnist_plot.png\" title=\"\" align=\"center\"/>\n"
      ]
    },
    {
      "cell_type": "markdown",
      "metadata": {
        "colab_type": "text",
        "id": "EVex4puqn1AO"
      },
      "source": [
        "# Understanding the data"
      ]
    },
    {
      "cell_type": "code",
      "metadata": {
        "colab_type": "code",
        "deletable": false,
        "id": "alqmfbOIn1AR",
        "nbgrader": {
          "checksum": "f1c9b1f58906b8bf2546a86766ba19a8",
          "grade": false,
          "grade_id": "cell-81641c87749d35fd",
          "locked": false,
          "schema_version": 1,
          "solution": true
        },
        "outputId": "85dbea4f-610c-43cf-e707-0ac709d0f3f5",
        "colab": {
          "base_uri": "https://localhost:8080/",
          "height": 73
        }
      },
      "source": [
        "# MNIST data is present in the keras library. You may load it from there\n",
        "from keras.datasets import mnist\n",
        "def load_data():\n",
        "    \"\"\"\n",
        "    Inputs:\n",
        "        None\n",
        "    Outputs:\n",
        "        train_samples, train_labels, test_samples, test_labels: numpy arrays\n",
        "    \n",
        "    Load the train/test of mnist data into these variables\n",
        "    \"\"\"\n",
        "    # YOUR CODE HERE\n",
        "    (train_samples, train_labels), (test_samples, test_labels) = mnist.load_data()\n",
        "\n",
        "    return train_samples, train_labels, test_samples, test_labels \n",
        "\n",
        "train_samples, train_labels, test_samples, test_labels = load_data()"
      ],
      "execution_count": 0,
      "outputs": [
        {
          "output_type": "stream",
          "text": [
            "Using TensorFlow backend.\n"
          ],
          "name": "stderr"
        },
        {
          "output_type": "stream",
          "text": [
            "Downloading data from https://s3.amazonaws.com/img-datasets/mnist.npz\n",
            "11493376/11490434 [==============================] - 0s 0us/step\n"
          ],
          "name": "stdout"
        }
      ]
    },
    {
      "cell_type": "code",
      "metadata": {
        "id": "yK_GoHzu5RUW",
        "colab_type": "code",
        "outputId": "f921a37c-0b87-4e0b-ea2f-f4e9680e05f1",
        "colab": {
          "base_uri": "https://localhost:8080/",
          "height": 36
        }
      },
      "source": [
        "\"\"\"Test cases\"\"\"\n",
        "assert train_samples.shape == (60000, 28, 28)\n",
        "assert test_labels.shape == (10000,)\n",
        "print('Test passed', '\\U0001F44D')\n"
      ],
      "execution_count": 0,
      "outputs": [
        {
          "output_type": "stream",
          "text": [
            "Test passed 👍\n"
          ],
          "name": "stdout"
        }
      ]
    },
    {
      "cell_type": "markdown",
      "metadata": {
        "colab_type": "text",
        "id": "3CNRCPbrn1Ae"
      },
      "source": [
        "### Shape of Data\n"
      ]
    },
    {
      "cell_type": "code",
      "metadata": {
        "colab_type": "code",
        "id": "_pAn6o3Vn1Ag",
        "outputId": "b372372a-695c-43db-ff27-69be0d32500a",
        "colab": {
          "base_uri": "https://localhost:8080/",
          "height": 92
        }
      },
      "source": [
        "print(train_samples.shape)\n",
        "print(train_labels.shape)\n",
        "print(test_samples.shape)\n",
        "print(test_labels.shape)"
      ],
      "execution_count": 0,
      "outputs": [
        {
          "output_type": "stream",
          "text": [
            "(60000, 28, 28)\n",
            "(60000,)\n",
            "(10000, 28, 28)\n",
            "(10000,)\n"
          ],
          "name": "stdout"
        }
      ]
    },
    {
      "cell_type": "markdown",
      "metadata": {
        "colab_type": "text",
        "id": "ubf7aJPIn1Ax"
      },
      "source": [
        "### Range of Values"
      ]
    },
    {
      "cell_type": "code",
      "metadata": {
        "colab_type": "code",
        "id": "-jiF1J8Jn1A0",
        "outputId": "c11f9e20-1a30-40e5-aebe-208452d7bbfd",
        "colab": {
          "base_uri": "https://localhost:8080/",
          "height": 36
        }
      },
      "source": [
        "import numpy as np\n",
        "np.amax(train_samples) # Max value"
      ],
      "execution_count": 0,
      "outputs": [
        {
          "output_type": "execute_result",
          "data": {
            "text/plain": [
              "255"
            ]
          },
          "metadata": {
            "tags": []
          },
          "execution_count": 5
        }
      ]
    },
    {
      "cell_type": "code",
      "metadata": {
        "colab_type": "code",
        "id": "Mu18byDmn1A-",
        "outputId": "9b66bce3-435e-4b1e-df4b-51cc81a60fb5",
        "colab": {
          "base_uri": "https://localhost:8080/",
          "height": 36
        }
      },
      "source": [
        "np.amin(train_samples) # Min Value"
      ],
      "execution_count": 0,
      "outputs": [
        {
          "output_type": "execute_result",
          "data": {
            "text/plain": [
              "0"
            ]
          },
          "metadata": {
            "tags": []
          },
          "execution_count": 6
        }
      ]
    },
    {
      "cell_type": "code",
      "metadata": {
        "colab_type": "code",
        "id": "_OkrzUFQn1BI",
        "outputId": "b94284b5-04ff-41de-fddf-1e1961fdd437",
        "colab": {
          "base_uri": "https://localhost:8080/",
          "height": 288
        }
      },
      "source": [
        "%matplotlib inline\n",
        "import matplotlib.pyplot as plt\n",
        "\n",
        "pixels = train_samples[0] # Shape (28, 28)\n",
        "plt.imshow(pixels, cmap='gray')\n",
        "plt.show()\n",
        "print('Label of image is', train_labels[0])"
      ],
      "execution_count": 0,
      "outputs": [
        {
          "output_type": "display_data",
          "data": {
            "image/png": "[encoded data removed]",
            "text/plain": [
              "<Figure size 432x288 with 1 Axes>"
            ]
          },
          "metadata": {
            "tags": []
          }
        },
        {
          "output_type": "stream",
          "text": [
            "Label of image is 5\n"
          ],
          "name": "stdout"
        }
      ]
    },
    {
      "cell_type": "markdown",
      "metadata": {
        "colab_type": "text",
        "id": "N6JiZgztn1BP"
      },
      "source": [
        "# Data Preparation"
      ]
    },
    {
      "cell_type": "markdown",
      "metadata": {
        "colab_type": "text",
        "id": "7hUHie4_n1BQ"
      },
      "source": [
        "### Normalize inputs to (0, 1)"
      ]
    },
    {
      "cell_type": "code",
      "metadata": {
        "colab_type": "code",
        "deletable": false,
        "id": "iGKZASBBn1BS",
        "nbgrader": {
          "checksum": "517fb19d6f3ebbc315f78688e3cf580a",
          "grade": false,
          "grade_id": "cell-6d7ec54fdf30ec6a",
          "locked": false,
          "schema_version": 1,
          "solution": true
        },
        "colab": {}
      },
      "source": [
        "def convert_dtype(x):\n",
        "    \"\"\"\n",
        "    Inputs:\n",
        "        x: numpy array\n",
        "    Outputs:\n",
        "        x_float: numpy array, dtype of elements changed to 'float32'\n",
        "    \"\"\"\n",
        "    # YOUR CODE HERE\n",
        "    x_float = x.astype('float32')\n",
        "    \n",
        "    return x_float\n",
        "\n",
        "train_samples = convert_dtype(train_samples)\n",
        "test_samples = convert_dtype(test_samples)"
      ],
      "execution_count": 0,
      "outputs": []
    },
    {
      "cell_type": "code",
      "metadata": {
        "id": "IB2huSQl5RVW",
        "colab_type": "code",
        "outputId": "add802bb-7a26-4159-f6d2-720cdb0cf004",
        "colab": {
          "base_uri": "https://localhost:8080/",
          "height": 36
        }
      },
      "source": [
        "\"\"\"Test cases\"\"\"\n",
        "assert str(train_samples.dtype) == 'float32'\n",
        "print('Test passed', '\\U0001F44D')\n"
      ],
      "execution_count": 0,
      "outputs": [
        {
          "output_type": "stream",
          "text": [
            "Test passed 👍\n"
          ],
          "name": "stdout"
        }
      ]
    },
    {
      "cell_type": "code",
      "metadata": {
        "colab_type": "code",
        "deletable": false,
        "id": "gbaIejYPn1BX",
        "nbgrader": {
          "checksum": "460dfe1a17dd7cbfe4b2783f3f7d66dc",
          "grade": false,
          "grade_id": "cell-f942b7b27fdbdc51",
          "locked": false,
          "schema_version": 1,
          "solution": true
        },
        "colab": {}
      },
      "source": [
        "def normalize(x):\n",
        "    \"\"\"\n",
        "    Inputs:\n",
        "        x: numpy array\n",
        "    Outputs:\n",
        "        x_n: numpy array, elements normalized to be between (0, 1)\n",
        "    \"\"\"    \n",
        "    # YOUR CODE HERE\n",
        "    x_n = x/255.\n",
        "    return x_n\n",
        "    \n",
        "train_samples = normalize(train_samples)\n",
        "test_samples = normalize(test_samples) \n"
      ],
      "execution_count": 0,
      "outputs": []
    },
    {
      "cell_type": "code",
      "metadata": {
        "id": "cNZ-cCOuIMbK",
        "colab_type": "code",
        "colab": {}
      },
      "source": [
        ""
      ],
      "execution_count": 0,
      "outputs": []
    },
    {
      "cell_type": "code",
      "metadata": {
        "id": "PUPxc8Qb5RVj",
        "colab_type": "code",
        "outputId": "5077d811-ab75-4bb4-8957-ad5e4b523ae2",
        "colab": {
          "base_uri": "https://localhost:8080/",
          "height": 36
        }
      },
      "source": [
        "\"\"\"Test cases\"\"\"\n",
        "assert np.isclose(np.amax(train_samples), 1)\n",
        "print('Test passed', '\\U0001F44D')\n"
      ],
      "execution_count": 0,
      "outputs": [
        {
          "output_type": "stream",
          "text": [
            "Test passed 👍\n"
          ],
          "name": "stdout"
        }
      ]
    },
    {
      "cell_type": "code",
      "metadata": {
        "id": "TVHu6HY5IZ_m",
        "colab_type": "code",
        "outputId": "62fc9a58-b914-43b0-f0d0-89ac0c322f91",
        "colab": {
          "base_uri": "https://localhost:8080/",
          "height": 36
        }
      },
      "source": [
        "train_samples.shape"
      ],
      "execution_count": 0,
      "outputs": [
        {
          "output_type": "execute_result",
          "data": {
            "text/plain": [
              "(60000, 28, 28)"
            ]
          },
          "metadata": {
            "tags": []
          },
          "execution_count": 12
        }
      ]
    },
    {
      "cell_type": "code",
      "metadata": {
        "deletable": false,
        "nbgrader": {
          "checksum": "95f321beea0331f5d325a1dd113645da",
          "grade": false,
          "grade_id": "cell-8a7f6b723861a02a",
          "locked": false,
          "schema_version": 1,
          "solution": true
        },
        "id": "aCR6DCgA5RVp",
        "colab_type": "code",
        "colab": {}
      },
      "source": [
        "def reshape(x):\n",
        "    \"\"\"\n",
        "    We need to reshape our train_data to be of shape (samples, height, width, channels) pass to Conv2D layer of keras\n",
        "    Inputs:\n",
        "        x: numpy array of shape(samples, height, width)\n",
        "    Outputs:\n",
        "        x_r: numpy array of shape(samples, height, width, 1)\n",
        "    \"\"\"\n",
        "    # YOUR CODE HERE\n",
        "    x_r = x.reshape(x.shape[0], 28,28,1)\n",
        "    return x_r\n",
        "\n",
        "train_samples = reshape(train_samples)\n",
        "test_samples = reshape(test_samples)"
      ],
      "execution_count": 0,
      "outputs": []
    },
    {
      "cell_type": "code",
      "metadata": {
        "id": "fUrOyiSU5RVv",
        "colab_type": "code",
        "outputId": "20880fee-b23c-4394-8dc0-b5aa6a89dfd1",
        "colab": {
          "base_uri": "https://localhost:8080/",
          "height": 36
        }
      },
      "source": [
        "train_labels.shape"
      ],
      "execution_count": 0,
      "outputs": [
        {
          "output_type": "execute_result",
          "data": {
            "text/plain": [
              "(60000,)"
            ]
          },
          "metadata": {
            "tags": []
          },
          "execution_count": 14
        }
      ]
    },
    {
      "cell_type": "markdown",
      "metadata": {
        "colab_type": "text",
        "id": "jzvfaeh9n1Bj"
      },
      "source": [
        "### Convert outputs to 1-hot vectors\n",
        "\\begin{equation*}\n",
        "Eg: 5 \\rightarrow [0, 0, 0, 0, 0, 1, 0, 0, 0, 0]\n",
        "\\end{equation*}"
      ]
    },
    {
      "cell_type": "code",
      "metadata": {
        "colab_type": "code",
        "deletable": false,
        "id": "kCxrh0-nn1Bl",
        "nbgrader": {
          "checksum": "64b5aebaeb79b72c5f8d6b5fc4158bd1",
          "grade": false,
          "grade_id": "cell-c11f23149e00b861",
          "locked": false,
          "schema_version": 1,
          "solution": true
        },
        "colab": {}
      },
      "source": [
        "def oneHot(y, Ny):\n",
        "    \"\"\"\n",
        "    Inputs:\n",
        "        y: numpy array if shape (samples, ) with class labels\n",
        "        Ny: number of classes\n",
        "    Outputs:\n",
        "        y_oh: numpy array of shape (samples, Ny) of one hot vectors\n",
        "    \"\"\"\n",
        "    # YOUR CODE HERE\n",
        "    from tensorflow.keras.utils import to_categorical\n",
        "\n",
        "    y_oh = to_categorical(y,Ny)\n",
        "    return y_oh\n",
        "\n",
        "# example\n",
        "train_labels = oneHot(train_labels, 10)\n",
        "test_labels = oneHot(test_labels, 10)"
      ],
      "execution_count": 0,
      "outputs": []
    },
    {
      "cell_type": "code",
      "metadata": {
        "id": "Uot6K52Z5RWB",
        "colab_type": "code",
        "outputId": "200d6c5b-84e1-43ae-dc69-7f34128fd9c6",
        "colab": {
          "base_uri": "https://localhost:8080/",
          "height": 36
        }
      },
      "source": [
        "\"\"\"Test cases\"\"\"\n",
        "assert train_labels.shape[1] == 10\n",
        "print('Test passed', '\\U0001F44D')\n"
      ],
      "execution_count": 0,
      "outputs": [
        {
          "output_type": "stream",
          "text": [
            "Test passed 👍\n"
          ],
          "name": "stdout"
        }
      ]
    },
    {
      "cell_type": "markdown",
      "metadata": {
        "id": "ntJekQJ85RWI",
        "colab_type": "text"
      },
      "source": [
        "## Create a convolutional neural network model\n",
        "You may design whatever cnn model you like. But following are hints to get started.<br>\n",
        "Make the following layers:\n",
        "1. cnn layer with kernel_size = (5, 5) and 32 kernels\n",
        "2. cnn layer with kernel_size = (3, 3) and 20 kernels\n",
        "3. Maxpooling layer of size (2, 2)\n",
        "4. Flatten layer\n",
        "5. Dense layer of appropriate size\n",
        "6. Output layer of appropriate size"
      ]
    },
    {
      "cell_type": "code",
      "metadata": {
        "colab_type": "code",
        "deletable": false,
        "id": "amqRJpZun1Bt",
        "nbgrader": {
          "checksum": "2c2396a31ef46bae9d5b0fa50a2db297",
          "grade": false,
          "grade_id": "cell-f2918a15da09ae15",
          "locked": false,
          "schema_version": 1,
          "solution": true
        },
        "outputId": "140bf427-af7c-485e-caf6-461f1fe7a4f5",
        "colab": {
          "base_uri": "https://localhost:8080/",
          "height": 281
        }
      },
      "source": [
        "def create_model():\n",
        "    \"\"\"\n",
        "    Inputs:\n",
        "        None\n",
        "    Outputs:\n",
        "        model: compiled keras model\n",
        "    \"\"\"\n",
        "    # YOUR CODE HERE\n",
        "    from keras.models import Sequential\n",
        "    from keras.layers import Dense, Dropout, Flatten\n",
        "    from keras.layers import Conv2D, MaxPooling2D\n",
        "    from tensorflow.keras import optimizers\n",
        "\n",
        "    model = Sequential()\n",
        "    model.add(Conv2D(32, kernel_size=(3, 3),\n",
        "                 activation='relu',\n",
        "                 input_shape=(28,28,1)))\n",
        "    \n",
        "    model.add(Conv2D(64, kernel_size=(3, 3), activation='relu'))\n",
        "    model.add(MaxPooling2D(pool_size=(2, 2)))\n",
        "    model.add(Flatten())\n",
        "\n",
        "    model.add(Dense(128, activation='relu'))\n",
        "    model.add(Dense(10, activation='softmax'))\n",
        "    model.compile(optimizer='sgd', loss='categorical_crossentropy', metrics=['accuracy'])\n",
        "\n",
        "\n",
        "\n",
        "\n",
        "    return model\n",
        "\n",
        "model = create_model()"
      ],
      "execution_count": 0,
      "outputs": [
        {
          "output_type": "stream",
          "text": [
            "WARNING: Logging before flag parsing goes to stderr.\n",
            "W0623 18:02:17.159910 140594691581824 deprecation_wrapper.py:119] From /usr/local/lib/python3.6/dist-packages/keras/backend/tensorflow_backend.py:74: The name tf.get_default_graph is deprecated. Please use tf.compat.v1.get_default_graph instead.\n",
            "\n",
            "W0623 18:02:17.196750 140594691581824 deprecation_wrapper.py:119] From /usr/local/lib/python3.6/dist-packages/keras/backend/tensorflow_backend.py:517: The name tf.placeholder is deprecated. Please use tf.compat.v1.placeholder instead.\n",
            "\n",
            "W0623 18:02:17.205101 140594691581824 deprecation_wrapper.py:119] From /usr/local/lib/python3.6/dist-packages/keras/backend/tensorflow_backend.py:4138: The name tf.random_uniform is deprecated. Please use tf.random.uniform instead.\n",
            "\n",
            "W0623 18:02:17.244240 140594691581824 deprecation_wrapper.py:119] From /usr/local/lib/python3.6/dist-packages/keras/backend/tensorflow_backend.py:3976: The name tf.nn.max_pool is deprecated. Please use tf.nn.max_pool2d instead.\n",
            "\n",
            "W0623 18:02:17.287856 140594691581824 deprecation_wrapper.py:119] From /usr/local/lib/python3.6/dist-packages/keras/optimizers.py:790: The name tf.train.Optimizer is deprecated. Please use tf.compat.v1.train.Optimizer instead.\n",
            "\n",
            "W0623 18:02:17.309474 140594691581824 deprecation_wrapper.py:119] From /usr/local/lib/python3.6/dist-packages/keras/backend/tensorflow_backend.py:3295: The name tf.log is deprecated. Please use tf.math.log instead.\n",
            "\n"
          ],
          "name": "stderr"
        }
      ]
    },
    {
      "cell_type": "code",
      "metadata": {
        "id": "kl2bX0hh5RWQ",
        "colab_type": "code",
        "outputId": "02991009-6937-4c96-b3b7-583e5ebb7068",
        "colab": {
          "base_uri": "https://localhost:8080/",
          "height": 373
        }
      },
      "source": [
        "model.summary()"
      ],
      "execution_count": 0,
      "outputs": [
        {
          "output_type": "stream",
          "text": [
            "_________________________________________________________________\n",
            "Layer (type)                 Output Shape              Param #   \n",
            "=================================================================\n",
            "conv2d_1 (Conv2D)            (None, 26, 26, 32)        320       \n",
            "_________________________________________________________________\n",
            "conv2d_2 (Conv2D)            (None, 24, 24, 64)        18496     \n",
            "_________________________________________________________________\n",
            "max_pooling2d_1 (MaxPooling2 (None, 12, 12, 64)        0         \n",
            "_________________________________________________________________\n",
            "flatten_1 (Flatten)          (None, 9216)              0         \n",
            "_________________________________________________________________\n",
            "dense_1 (Dense)              (None, 128)               1179776   \n",
            "_________________________________________________________________\n",
            "dense_2 (Dense)              (None, 10)                1290      \n",
            "=================================================================\n",
            "Total params: 1,199,882\n",
            "Trainable params: 1,199,882\n",
            "Non-trainable params: 0\n",
            "_________________________________________________________________\n"
          ],
          "name": "stdout"
        }
      ]
    },
    {
      "cell_type": "code",
      "metadata": {
        "colab_type": "code",
        "id": "u-2Sfsxtn1B7",
        "outputId": "5b55a608-23f9-4b50-c8e2-888b4539cb5e",
        "colab": {
          "base_uri": "https://localhost:8080/",
          "height": 225
        }
      },
      "source": [
        "history = model.fit(train_samples, train_labels, validation_split = 0.1, epochs=2, batch_size=200)\n",
        "# Use 10% of samples for validation, validation_split is the relevant parameter\n"
      ],
      "execution_count": 0,
      "outputs": [
        {
          "output_type": "stream",
          "text": [
            "W0623 18:02:17.437232 140594691581824 deprecation.py:323] From /usr/local/lib/python3.6/dist-packages/tensorflow/python/ops/math_grad.py:1250: add_dispatch_support.<locals>.wrapper (from tensorflow.python.ops.array_ops) is deprecated and will be removed in a future version.\n",
            "Instructions for updating:\n",
            "Use tf.where in 2.0, which has the same broadcast rule as np.where\n",
            "W0623 18:02:17.494397 140594691581824 deprecation_wrapper.py:119] From /usr/local/lib/python3.6/dist-packages/keras/backend/tensorflow_backend.py:986: The name tf.assign_add is deprecated. Please use tf.compat.v1.assign_add instead.\n",
            "\n"
          ],
          "name": "stderr"
        },
        {
          "output_type": "stream",
          "text": [
            "Train on 54000 samples, validate on 6000 samples\n",
            "Epoch 1/2\n",
            "54000/54000 [==============================] - 10s 181us/step - loss: 1.0884 - acc: 0.6917 - val_loss: 0.3125 - val_acc: 0.9117\n",
            "Epoch 2/2\n",
            "54000/54000 [==============================] - 3s 56us/step - loss: 0.3339 - acc: 0.9019 - val_loss: 0.2289 - val_acc: 0.9342\n"
          ],
          "name": "stdout"
        }
      ]
    },
    {
      "cell_type": "code",
      "metadata": {
        "deletable": false,
        "nbgrader": {
          "checksum": "152e035c796daf8de8495ef4dd4b509b",
          "grade": false,
          "grade_id": "cell-2e082c9902d9c054",
          "locked": false,
          "schema_version": 1,
          "solution": true
        },
        "id": "otxaaM845RWi",
        "colab_type": "code",
        "colab": {}
      },
      "source": [
        "def predict(x):\n",
        "    \"\"\"\n",
        "    Inputs:\n",
        "        x: input samples\n",
        "        model: keras model\n",
        "    Outputs:\n",
        "        y: predicted labels\n",
        "    \"\"\"\n",
        "    # YOUR CODE HERE\n",
        "    y = model.predict(x)\n",
        "    return y"
      ],
      "execution_count": 0,
      "outputs": []
    },
    {
      "cell_type": "code",
      "metadata": {
        "deletable": false,
        "nbgrader": {
          "checksum": "51bf0f6f01341d1e097cfcce995f7842",
          "grade": false,
          "grade_id": "cell-b55a1773f8fcdf85",
          "locked": false,
          "schema_version": 1,
          "solution": true
        },
        "id": "kvd9eiKM5RWs",
        "colab_type": "code",
        "colab": {}
      },
      "source": [
        "def oneHot_tolabel(y):\n",
        "    \"\"\"\n",
        "    Inputs:\n",
        "        y: numpy array of shape (samples, Ny)\n",
        "    Outputs:\n",
        "        y_b: numpy array of shape (samples,) where one hot encoding is converted back to class labels\n",
        "    \"\"\"\n",
        "    # YOUR CODE HERE\n",
        "     \n",
        "    y_b=np.argmax(y, axis=1)\n",
        "    return y_b\n",
        "    "
      ],
      "execution_count": 0,
      "outputs": []
    },
    {
      "cell_type": "code",
      "metadata": {
        "colab_type": "code",
        "deletable": false,
        "id": "B12vN44Ln1CF",
        "nbgrader": {
          "checksum": "177572664de00d24d4f6271664cbc95f",
          "grade": false,
          "grade_id": "cell-7b7fec626903c453",
          "locked": false,
          "schema_version": 1,
          "solution": true
        },
        "colab": {}
      },
      "source": [
        "def create_confusion_matrix(true_labels, predicted_labels):\n",
        "    \"\"\"\n",
        "    Inputs:\n",
        "        true_labels: numpy array of shape (samples, ) with true_labels\n",
        "        test_labels: numpy array of shape(samples, ) with test_labels\n",
        "    Outputs:\n",
        "        cm: numpy array of shape (Ny, Ny), confusion matrix. Ny -> number of unique classes in y\n",
        "    \"\"\"\n",
        "    # YOUR CODE HERE\n",
        "    from sklearn.metrics import confusion_matrix\n",
        "    \n",
        "    cm = confusion_matrix(true_labels, predicted_labels)\n",
        "\n",
        "    return cm"
      ],
      "execution_count": 0,
      "outputs": []
    },
    {
      "cell_type": "code",
      "metadata": {
        "id": "ntzOmfSO5RW1",
        "colab_type": "code",
        "colab": {}
      },
      "source": [
        "predicted_labels_train = predict(train_samples)"
      ],
      "execution_count": 0,
      "outputs": []
    },
    {
      "cell_type": "code",
      "metadata": {
        "id": "nluDi-n8THb9",
        "colab_type": "code",
        "outputId": "da693c62-5945-484a-c719-bf1ba96ae2ad",
        "colab": {
          "base_uri": "https://localhost:8080/",
          "height": 36
        }
      },
      "source": [
        "print(predicted_labels_train.shape)"
      ],
      "execution_count": 0,
      "outputs": [
        {
          "output_type": "stream",
          "text": [
            "(60000, 10)\n"
          ],
          "name": "stdout"
        }
      ]
    },
    {
      "cell_type": "code",
      "metadata": {
        "id": "KNrcI9nZ5RW-",
        "colab_type": "code",
        "colab": {}
      },
      "source": [
        "cm = create_confusion_matrix(oneHot_tolabel(train_labels), oneHot_tolabel(predict(train_samples)))"
      ],
      "execution_count": 0,
      "outputs": []
    },
    {
      "cell_type": "code",
      "metadata": {
        "id": "t--cvIRI5RXD",
        "colab_type": "code",
        "outputId": "bdd1d8c8-8374-4271-8312-177ff5b73a31",
        "colab": {
          "base_uri": "https://localhost:8080/",
          "height": 205
        }
      },
      "source": [
        "print(cm)"
      ],
      "execution_count": 0,
      "outputs": [
        {
          "output_type": "stream",
          "text": [
            "[[5672    1    8   18   10   51   59   17   79    8]\n",
            " [   0 6582   40   14    6   29   12   20   29   10]\n",
            " [  53   72 5141   87  110   15  157  119  174   30]\n",
            " [  33   50   83 5342    5  197   41  107  215   58]\n",
            " [   5   29   28    0 5426    2   83   30   32  207]\n",
            " [  60   52   19  171   49 4707  129   33  151   50]\n",
            " [  26   19   12    2   46   56 5721    4   31    1]\n",
            " [  26   52   56    7   67    8    1 5904   13  131]\n",
            " [  23  113   34  124   19   82   49   29 5301   77]\n",
            " [  31   40   16   73  183   23    1  249   63 5270]]\n"
          ],
          "name": "stdout"
        }
      ]
    },
    {
      "cell_type": "code",
      "metadata": {
        "id": "28mectC3Kn2Q",
        "colab_type": "code",
        "outputId": "c94b400c-d6e7-4d49-904f-54529d333a43",
        "colab": {
          "base_uri": "https://localhost:8080/",
          "height": 73
        }
      },
      "source": [
        "precision = np.diag(cm) / np.sum(cm, axis = 0)\n",
        "print(precision )\n",
        "min=np.amin(precision)\n",
        "print(min)"
      ],
      "execution_count": 0,
      "outputs": [
        {
          "output_type": "stream",
          "text": [
            "[0.95665374 0.93894437 0.94555821 0.9150394  0.91639926 0.91044487\n",
            " 0.91492084 0.90663391 0.8707293  0.90208833]\n",
            "0.8707293035479632\n"
          ],
          "name": "stdout"
        }
      ]
    },
    {
      "cell_type": "code",
      "metadata": {
        "colab_type": "code",
        "id": "sdXS58IwWOXP",
        "outputId": "bfc8e956-eae7-4cd8-9ffc-7465e41dabec",
        "colab": {
          "base_uri": "https://localhost:8080/",
          "height": 269
        }
      },
      "source": [
        "history.history.keys()\n",
        "import matplotlib.pyplot as plt\n",
        "plt.plot(range(len(history.history['val_acc'])), history.history['val_acc'])\n",
        "plt.show()"
      ],
      "execution_count": 0,
      "outputs": [
        {
          "output_type": "display_data",
          "data": {
            "image/png": "[encoded data removed]",
            "text/plain": [
              "<Figure size 432x288 with 1 Axes>"
            ]
          },
          "metadata": {
            "tags": []
          }
        }
      ]
    },
    {
      "cell_type": "code",
      "metadata": {
        "deletable": false,
        "nbgrader": {
          "checksum": "a9dfa82486edd7a314c8ac7fd47e389e",
          "grade": false,
          "grade_id": "cell-aba6e55dfdf66734",
          "locked": false,
          "schema_version": 1,
          "solution": true
        },
        "id": "Khcn6sy55RXP",
        "colab_type": "code",
        "outputId": "e50271c9-4a7f-4ef1-d9ad-da275e8b0eb9",
        "colab": {
          "base_uri": "https://localhost:8080/",
          "height": 36
        }
      },
      "source": [
        "def accuracy(x_test, y_test, model):\n",
        "    \"\"\"\n",
        "    Inputs:\n",
        "        x_test: test samples\n",
        "        y_test : test labels\n",
        "        model: keras model\n",
        "    Ouputs:\n",
        "        acc: float, accuracy of test data on model\n",
        "    \"\"\"\n",
        "    # YOUR CODE HERE\n",
        "    loss, acc = model.evaluate(x_test, y_test,verbose=0)\n",
        "    return acc\n",
        "\n",
        "acc = accuracy(test_samples, test_labels, model)\n",
        "print('Test accuracy is, ', acc*100, '%')"
      ],
      "execution_count": 0,
      "outputs": [
        {
          "output_type": "stream",
          "text": [
            "Test accuracy is,  92.05 %\n"
          ],
          "name": "stdout"
        }
      ]
    },
    {
      "cell_type": "code",
      "metadata": {
        "colab_type": "code",
        "id": "DySmpDX7n1CY",
        "colab": {}
      },
      "source": [
        "### Advanced\n",
        "1. Tune the hyperparameters to better the performance\n",
        "2. Find the classes which are getting most confused from confusion matrix. Take out those samples. Plot them and see why they are getting confused."
      ],
      "execution_count": 0,
      "outputs": []
    },
    {
      "cell_type": "code",
      "metadata": {
        "id": "GP4UQ7Zz5RXW",
        "colab_type": "code",
        "colab": {}
      },
      "source": [
        "def create_model():\n",
        "    \"\"\"\n",
        "    Inputs:\n",
        "        None\n",
        "    Outputs:\n",
        "        model: compiled keras model\n",
        "    \"\"\"\n",
        "    # YOUR CODE HERE\n",
        "    from keras.models import Sequential\n",
        "    from keras.layers import Dense, Dropout, Flatten\n",
        "    from keras.layers import Conv2D, MaxPooling2D\n",
        "    from tensorflow.keras import optimizers\n",
        "\n",
        "    model = Sequential()\n",
        "    model.add(Conv2D(64, kernel_size=(3, 3),\n",
        "                 activation='relu',\n",
        "                 input_shape=(28,28,1)))\n",
        "    \n",
        "    model.add(Conv2D(128, kernel_size=(3, 3), activation='tanh'))\n",
        "    model.add(MaxPooling2D(pool_size=(2, 2)))\n",
        "    model.add(Flatten())\n",
        "\n",
        "    model.add(Dense(128, activation='relu'))\n",
        "    model.add(Dense(10, activation='softmax'))\n",
        "    model.compile(optimizer='sgd', loss='categorical_crossentropy', metrics=['accuracy'])\n",
        "\n",
        "\n",
        "\n",
        "\n",
        "    return model\n",
        "\n",
        "model = create_model()"
      ],
      "execution_count": 0,
      "outputs": []
    },
    {
      "cell_type": "code",
      "metadata": {
        "id": "JxIlZACPFlaP",
        "colab_type": "code",
        "outputId": "3f83ef93-aabd-4157-d8bc-6feab1faed1d",
        "colab": {
          "base_uri": "https://localhost:8080/",
          "height": 373
        }
      },
      "source": [
        "model.summary()"
      ],
      "execution_count": 0,
      "outputs": [
        {
          "output_type": "stream",
          "text": [
            "_________________________________________________________________\n",
            "Layer (type)                 Output Shape              Param #   \n",
            "=================================================================\n",
            "conv2d_11 (Conv2D)           (None, 26, 26, 64)        640       \n",
            "_________________________________________________________________\n",
            "conv2d_12 (Conv2D)           (None, 24, 24, 128)       73856     \n",
            "_________________________________________________________________\n",
            "max_pooling2d_6 (MaxPooling2 (None, 12, 12, 128)       0         \n",
            "_________________________________________________________________\n",
            "flatten_6 (Flatten)          (None, 18432)             0         \n",
            "_________________________________________________________________\n",
            "dense_11 (Dense)             (None, 128)               2359424   \n",
            "_________________________________________________________________\n",
            "dense_12 (Dense)             (None, 10)                1290      \n",
            "=================================================================\n",
            "Total params: 2,435,210\n",
            "Trainable params: 2,435,210\n",
            "Non-trainable params: 0\n",
            "_________________________________________________________________\n"
          ],
          "name": "stdout"
        }
      ]
    },
    {
      "cell_type": "code",
      "metadata": {
        "id": "8GGLxfjRFoW4",
        "colab_type": "code",
        "outputId": "ae4d3c1e-ff5b-4594-9ded-ee490f5ec928",
        "colab": {
          "base_uri": "https://localhost:8080/",
          "height": 186
        }
      },
      "source": [
        "history = model.fit(train_samples, train_labels, validation_split = 0.2, epochs=4, batch_size=200)\n"
      ],
      "execution_count": 0,
      "outputs": [
        {
          "output_type": "stream",
          "text": [
            "Train on 48000 samples, validate on 12000 samples\n",
            "Epoch 1/4\n",
            "48000/48000 [==============================] - 6s 123us/step - loss: 1.1301 - acc: 0.7276 - val_loss: 0.3855 - val_acc: 0.8949\n",
            "Epoch 2/4\n",
            "48000/48000 [==============================] - 5s 114us/step - loss: 0.3589 - acc: 0.8967 - val_loss: 0.2936 - val_acc: 0.9198\n",
            "Epoch 3/4\n",
            "48000/48000 [==============================] - 5s 114us/step - loss: 0.2952 - acc: 0.9141 - val_loss: 0.2572 - val_acc: 0.9263\n",
            "Epoch 4/4\n",
            "48000/48000 [==============================] - 5s 114us/step - loss: 0.2604 - acc: 0.9235 - val_loss: 0.2368 - val_acc: 0.9308\n"
          ],
          "name": "stdout"
        }
      ]
    },
    {
      "cell_type": "code",
      "metadata": {
        "id": "rND2nk68SxW4",
        "colab_type": "code",
        "outputId": "74c911af-bf03-46c9-e7f2-5c4dc412a27a",
        "colab": {
          "base_uri": "https://localhost:8080/",
          "height": 205
        }
      },
      "source": [
        "print(cm)"
      ],
      "execution_count": 0,
      "outputs": [
        {
          "output_type": "stream",
          "text": [
            "[[5672    1    8   18   10   51   59   17   79    8]\n",
            " [   0 6582   40   14    6   29   12   20   29   10]\n",
            " [  53   72 5141   87  110   15  157  119  174   30]\n",
            " [  33   50   83 5342    5  197   41  107  215   58]\n",
            " [   5   29   28    0 5426    2   83   30   32  207]\n",
            " [  60   52   19  171   49 4707  129   33  151   50]\n",
            " [  26   19   12    2   46   56 5721    4   31    1]\n",
            " [  26   52   56    7   67    8    1 5904   13  131]\n",
            " [  23  113   34  124   19   82   49   29 5301   77]\n",
            " [  31   40   16   73  183   23    1  249   63 5270]]\n"
          ],
          "name": "stdout"
        }
      ]
    },
    {
      "cell_type": "code",
      "metadata": {
        "id": "ZIsyrdaaV9Lk",
        "colab_type": "code",
        "outputId": "07f756ad-fc05-45ae-8c4e-dc1f26c4de64",
        "colab": {
          "base_uri": "https://localhost:8080/",
          "height": 73
        }
      },
      "source": [
        "precision = np.diag(cm) / np.sum(cm, axis = 0)\n",
        "print(precision )\n",
        "min=np.amin(precision)\n",
        "print(min)"
      ],
      "execution_count": 0,
      "outputs": [
        {
          "output_type": "stream",
          "text": [
            "[0.95665374 0.93894437 0.94555821 0.9150394  0.91639926 0.91044487\n",
            " 0.91492084 0.90663391 0.8707293  0.90208833]\n",
            "0.8707293035479632\n"
          ],
          "name": "stdout"
        }
      ]
    },
    {
      "cell_type": "code",
      "metadata": {
        "id": "jXCjzk-mWhAH",
        "colab_type": "code",
        "outputId": "b0a468de-a926-446c-8efe-88d3e13921da",
        "colab": {
          "base_uri": "https://localhost:8080/",
          "height": 36
        }
      },
      "source": [
        "train_samples.shape"
      ],
      "execution_count": 0,
      "outputs": [
        {
          "output_type": "execute_result",
          "data": {
            "text/plain": [
              "(60000, 28, 28, 1)"
            ]
          },
          "metadata": {
            "tags": []
          },
          "execution_count": 109
        }
      ]
    },
    {
      "cell_type": "code",
      "metadata": {
        "id": "wnGT6iHKW2GI",
        "colab_type": "code",
        "outputId": "4316d41f-1109-4dcf-d13f-9e5c65d27365",
        "colab": {
          "base_uri": "https://localhost:8080/",
          "height": 36
        }
      },
      "source": [
        "tx=train_samples.reshape(train_samples.shape[0], 28,28)\n",
        "tx.shape"
      ],
      "execution_count": 0,
      "outputs": [
        {
          "output_type": "execute_result",
          "data": {
            "text/plain": [
              "(60000, 28, 28)"
            ]
          },
          "metadata": {
            "tags": []
          },
          "execution_count": 32
        }
      ]
    },
    {
      "cell_type": "code",
      "metadata": {
        "id": "C6v_28y3XNbN",
        "colab_type": "code",
        "colab": {}
      },
      "source": [
        ""
      ],
      "execution_count": 0,
      "outputs": []
    },
    {
      "cell_type": "code",
      "metadata": {
        "id": "7vy_ScuwWXuH",
        "colab_type": "code",
        "outputId": "79b8065f-3125-432a-f693-eb1cbae8fc94",
        "colab": {
          "base_uri": "https://localhost:8080/",
          "height": 1371
        }
      },
      "source": [
        "%matplotlib inline\n",
        "import matplotlib.pyplot as plt\n",
        "\n",
        "for i in range(5):\n",
        "  if oneHot_tolabel(predict(train_samples))[i]==8:\n",
        "    pixels = tx[i] # Shape (28, 28)\n",
        "  plt.imshow(pixels, cmap='gray')\n",
        "  plt.show()\n",
        "  print('Label of image is', oneHot_tolabel(predict(train_samples))[i])\n"
      ],
      "execution_count": 0,
      "outputs": [
        {
          "output_type": "display_data",
          "data": {
            "image/png": "[encoded data removed]",
            "text/plain": [
              "<Figure size 432x288 with 1 Axes>"
            ]
          },
          "metadata": {
            "tags": []
          }
        },
        {
          "output_type": "stream",
          "text": [
            "Label of image is 5\n"
          ],
          "name": "stdout"
        },
        {
          "output_type": "display_data",
          "data": {
            "image/png": "[encoded data removed]",
            "text/plain": [
              "<Figure size 432x288 with 1 Axes>"
            ]
          },
          "metadata": {
            "tags": []
          }
        },
        {
          "output_type": "stream",
          "text": [
            "Label of image is 0\n"
          ],
          "name": "stdout"
        },
        {
          "output_type": "display_data",
          "data": {
            "image/png": "[encoded data removed]",
            "text/plain": [
              "<Figure size 432x288 with 1 Axes>"
            ]
          },
          "metadata": {
            "tags": []
          }
        },
        {
          "output_type": "stream",
          "text": [
            "Label of image is 4\n"
          ],
          "name": "stdout"
        },
        {
          "output_type": "display_data",
          "data": {
            "image/png": "[encoded data removed]",
            "text/plain": [
              "<Figure size 432x288 with 1 Axes>"
            ]
          },
          "metadata": {
            "tags": []
          }
        },
        {
          "output_type": "stream",
          "text": [
            "Label of image is 1\n"
          ],
          "name": "stdout"
        },
        {
          "output_type": "display_data",
          "data": {
            "image/png": "[encoded data removed]",
            "text/plain": [
              "<Figure size 432x288 with 1 Axes>"
            ]
          },
          "metadata": {
            "tags": []
          }
        },
        {
          "output_type": "stream",
          "text": [
            "Label of image is 9\n"
          ],
          "name": "stdout"
        }
      ]
    }
  ]
}